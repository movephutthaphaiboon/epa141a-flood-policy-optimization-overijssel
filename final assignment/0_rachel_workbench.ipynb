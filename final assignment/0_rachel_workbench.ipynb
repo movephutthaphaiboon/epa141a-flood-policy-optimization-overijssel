{
 "cells": [
  {
   "cell_type": "markdown",
   "id": "6c7b6af6",
   "metadata": {},
   "source": [
    "# Open Exploration (Disaggregated Outcomes)\n",
    "\n",
    "... [add NB description] ..."
   ]
  },
  {
   "cell_type": "markdown",
   "id": "e2274350",
   "metadata": {},
   "source": [
    "## 1. Model and dependency import"
   ]
  },
  {
   "cell_type": "code",
   "execution_count": 1,
   "id": "e2699bba",
   "metadata": {},
   "outputs": [],
   "source": [
    "# Dependencies\n",
    "import numpy as np\n",
    "import matplotlib.pyplot as plt\n",
    "import pandas as pd\n",
    "import seaborn as sns\n",
    "from ema_workbench import (Scenario, Policy, MultiprocessingEvaluator, perform_experiments, ema_logging)\n",
    "from ema_workbench import Samplers\n",
    "from ema_workbench import save_results, load_results\n",
    "from ema_workbench.analysis import feature_scoring\n",
    "from ema_workbench.analysis.scenario_discovery_util import RuleInductionType\n",
    "from ema_workbench.em_framework.salib_samplers import get_SALib_problem\n",
    "from SALib.analyze import sobol\n",
    "from ema_workbench.em_framework.salib_samplers import get_SALib_problem\n",
    "\n",
    "# Model\n",
    "from problem_formulation import get_model_for_problem_formulation"
   ]
  },
  {
   "cell_type": "code",
   "execution_count": 2,
   "id": "4e3ff73d",
   "metadata": {},
   "outputs": [],
   "source": [
    "prob_formulation = 6\n",
    "\n",
    "model, steps = get_model_for_problem_formulation(prob_formulation)\n",
    "uncertainties = model.uncertainties\n",
    "levers = model.levers"
   ]
  },
  {
   "cell_type": "code",
   "execution_count": 3,
   "id": "e71a1f33",
   "metadata": {},
   "outputs": [
    {
     "data": {
      "text/plain": [
       "(18, 21)"
      ]
     },
     "execution_count": 3,
     "metadata": {},
     "output_type": "execute_result"
    }
   ],
   "source": [
    "len(uncertainties), len(levers)"
   ]
  },
  {
   "cell_type": "code",
   "execution_count": 4,
   "id": "3c831e20",
   "metadata": {},
   "outputs": [
    {
     "name": "stderr",
     "output_type": "stream",
     "text": [
      "[MainProcess/INFO] pool started with 4 workers\n",
      "[MainProcess/INFO] performing 500 scenarios * 100 policies * 1 model(s) = 50000 experiments\n",
      "100%|████████████████████████████████████| 50000/50000 [41:41<00:00, 19.99it/s]\n",
      "[MainProcess/INFO] experiments finished\n",
      "[MainProcess/INFO] terminating pool\n",
      "[MainProcess/INFO] results saved successfully to /Users/racheldelvin/Desktop/epa141a-flood-policy-optimization-overijssel/final assignment/results/GSA_PF6_S500_P100_.tar.gz\n"
     ]
    }
   ],
   "source": [
    "ema_logging.log_to_stderr(ema_logging.INFO)\n",
    "\n",
    "n_scenario = 500\n",
    "n_policy = 100\n",
    "\n",
    "with MultiprocessingEvaluator(model, n_processes=4) as evaluator:\n",
    "    results = evaluator.perform_experiments(scenarios=n_scenario,\n",
    "                                            policies=n_policy,\n",
    "                                            lever_sampling=Samplers.LHS\n",
    "                                            )\n",
    "\n",
    "save_results(results, 'results/GSA_PF{}_S{}_P{}_.tar.gz'.format(prob_formulation,n_scenario,n_policy))"
   ]
  },
  {
   "cell_type": "code",
   "execution_count": null,
   "id": "749776dd",
   "metadata": {},
   "outputs": [
    {
     "name": "stderr",
     "output_type": "stream",
     "text": [
      "[MainProcess/INFO] column model dropped from analysis because it has only one category\n",
      "[MainProcess/INFO] 400000 points remaining, containing 20000 cases of interest\n"
     ]
    }
   ],
   "source": [
    "from ema_workbench.analysis import prim\n",
    "\n",
    "ema_logging.log_to_stderr(ema_logging.INFO)\n",
    "\n",
    "prim_alg = prim.Prim(x=experiments, y=y, threshold=0.7, peel_alpha=0.1, mode=RuleInductionType.BINARY)\n",
    "box_casualties = prim_alg.find_box()"
   ]
  },
  {
   "cell_type": "code",
   "execution_count": null,
   "id": "d2f278da",
   "metadata": {},
   "outputs": [],
   "source": [
    "model, steps = get_model_for_problem_formulation(1)\n",
    "uncertainties = model.uncertainties\n",
    "levers = model.levers"
   ]
  },
  {
   "cell_type": "code",
   "execution_count": 3,
   "id": "a15a48d4",
   "metadata": {},
   "outputs": [
    {
     "data": {
      "text/plain": [
       "(18, 21)"
      ]
     },
     "execution_count": 3,
     "metadata": {},
     "output_type": "execute_result"
    }
   ],
   "source": [
    "len(uncertainties), len(levers)"
   ]
  },
  {
   "cell_type": "code",
   "execution_count": 4,
   "id": "12413840",
   "metadata": {},
   "outputs": [],
   "source": [
    "results = load_results('results/GSA_PF6_S500_P800_.tar.gz')\n",
    "experiments, outcomes = results"
   ]
  },
  {
   "cell_type": "code",
   "execution_count": 5,
   "id": "bb8996aa",
   "metadata": {},
   "outputs": [
    {
     "data": {
      "text/plain": [
       "{'Expected Annual Damage': array([1.07563765e+07, 4.23619314e+08, 0.00000000e+00, ...,\n",
       "        5.93330672e+08, 7.66332302e+08, 3.07334763e+06]),\n",
       " 'Total Investment Costs': array([1.34597157e+09, 1.34599347e+09, 1.34597086e+09, ...,\n",
       "        8.20938476e+08, 8.20937623e+08, 8.20925877e+08]),\n",
       " 'Expected Number of Deaths': array([0.00121945, 0.08645608, 0.        , ..., 0.09575863, 0.09344048,\n",
       "        0.0003728 ])}"
      ]
     },
     "execution_count": 5,
     "metadata": {},
     "output_type": "execute_result"
    }
   ],
   "source": [
    "outcomes"
   ]
  },
  {
   "cell_type": "code",
   "execution_count": 6,
   "id": "6a04b01e",
   "metadata": {},
   "outputs": [],
   "source": [
    "var_interest = 'Expected Number of Deaths'\n",
    "threshold = np.percentile(outcomes[var_interest], 95)\n",
    "\n",
    "y = outcomes[var_interest] >= threshold"
   ]
  },
  {
   "cell_type": "code",
   "execution_count": 7,
   "id": "1466db4b",
   "metadata": {},
   "outputs": [
    {
     "data": {
      "image/png": "[encoded data removed]",
      "text/plain": [
       "<Figure size 640x480 with 1 Axes>"
      ]
     },
     "metadata": {},
     "output_type": "display_data"
    },
    {
     "name": "stdout",
     "output_type": "stream",
     "text": [
      "0.0 2.492345693998904\n",
      "[0.00000000e+00 0.00000000e+00 0.00000000e+00 0.00000000e+00\n",
      " 1.98953912e-03 5.19147653e-02 2.49234569e+00]\n"
     ]
    }
   ],
   "source": [
    "import matplotlib.pyplot as plt\n",
    "plt.hist(outcomes[var_interest], bins=100)\n",
    "plt.show()\n",
    "print(np.min(outcomes[var_interest]), np.max(outcomes[var_interest]))\n",
    "print(np.percentile(outcomes[var_interest], [0, 5, 10, 20, 50, 90, 100]))"
   ]
  },
  {
   "cell_type": "code",
   "execution_count": 8,
   "id": "b80457ea",
   "metadata": {},
   "outputs": [
    {
     "name": "stdout",
     "output_type": "stream",
     "text": [
      "20000\n",
      "(array([False,  True]), array([380000,  20000]))\n"
     ]
    }
   ],
   "source": [
    "print(np.sum(y))\n",
    "print(np.unique(y, return_counts=True))"
   ]
  },
  {
   "cell_type": "code",
   "execution_count": 9,
   "id": "b1c7ab84",
   "metadata": {},
   "outputs": [],
   "source": [
    "experiments.drop(columns=list(model.levers.keys()), inplace=True)"
   ]
  },
  {
   "cell_type": "code",
   "execution_count": null,
   "id": "3f47c23b",
   "metadata": {},
   "outputs": [
    {
     "data": {
      "text/html": [
       "<div>\n",
       "<style scoped>\n",
       "    .dataframe tbody tr th:only-of-type {\n",
       "        vertical-align: middle;\n",
       "    }\n",
       "\n",
       "    .dataframe tbody tr th {\n",
       "        vertical-align: top;\n",
       "    }\n",
       "\n",
       "    .dataframe thead th {\n",
       "        text-align: right;\n",
       "    }\n",
       "</style>\n",
       "<table border=\"1\" class=\"dataframe\">\n",
       "  <thead>\n",
       "    <tr style=\"text-align: right;\">\n",
       "      <th></th>\n",
       "      <th>A.0_ID flood wave shape</th>\n",
       "      <th>A.1_Bmax</th>\n",
       "      <th>A.1_Brate</th>\n",
       "      <th>A.1_pfail</th>\n",
       "      <th>A.2_Bmax</th>\n",
       "      <th>A.2_Brate</th>\n",
       "      <th>A.2_pfail</th>\n",
       "      <th>A.3_Bmax</th>\n",
       "      <th>A.3_Brate</th>\n",
       "      <th>A.3_pfail</th>\n",
       "      <th>...</th>\n",
       "      <th>A.4_Brate</th>\n",
       "      <th>A.4_pfail</th>\n",
       "      <th>A.5_Bmax</th>\n",
       "      <th>A.5_Brate</th>\n",
       "      <th>A.5_pfail</th>\n",
       "      <th>discount rate 0</th>\n",
       "      <th>discount rate 1</th>\n",
       "      <th>scenario</th>\n",
       "      <th>policy</th>\n",
       "      <th>model</th>\n",
       "    </tr>\n",
       "  </thead>\n",
       "  <tbody>\n",
       "    <tr>\n",
       "      <th>0</th>\n",
       "      <td>128</td>\n",
       "      <td>251.879396</td>\n",
       "      <td>1.0</td>\n",
       "      <td>0.923106</td>\n",
       "      <td>291.867662</td>\n",
       "      <td>10.0</td>\n",
       "      <td>0.887255</td>\n",
       "      <td>322.389498</td>\n",
       "      <td>10.0</td>\n",
       "      <td>0.967830</td>\n",
       "      <td>...</td>\n",
       "      <td>10.0</td>\n",
       "      <td>0.874362</td>\n",
       "      <td>66.818719</td>\n",
       "      <td>10.0</td>\n",
       "      <td>0.107165</td>\n",
       "      <td>1.5</td>\n",
       "      <td>2.5</td>\n",
       "      <td>205901</td>\n",
       "      <td>205101</td>\n",
       "      <td>dikesnet</td>\n",
       "    </tr>\n",
       "    <tr>\n",
       "      <th>1</th>\n",
       "      <td>60</td>\n",
       "      <td>194.657801</td>\n",
       "      <td>1.0</td>\n",
       "      <td>0.705556</td>\n",
       "      <td>196.414942</td>\n",
       "      <td>10.0</td>\n",
       "      <td>0.876642</td>\n",
       "      <td>31.397941</td>\n",
       "      <td>1.0</td>\n",
       "      <td>0.007375</td>\n",
       "      <td>...</td>\n",
       "      <td>1.0</td>\n",
       "      <td>0.943311</td>\n",
       "      <td>322.555105</td>\n",
       "      <td>1.0</td>\n",
       "      <td>0.737610</td>\n",
       "      <td>1.5</td>\n",
       "      <td>1.5</td>\n",
       "      <td>205902</td>\n",
       "      <td>205101</td>\n",
       "      <td>dikesnet</td>\n",
       "    </tr>\n",
       "    <tr>\n",
       "      <th>2</th>\n",
       "      <td>110</td>\n",
       "      <td>152.047042</td>\n",
       "      <td>1.0</td>\n",
       "      <td>0.894195</td>\n",
       "      <td>183.193248</td>\n",
       "      <td>1.0</td>\n",
       "      <td>0.405141</td>\n",
       "      <td>228.799687</td>\n",
       "      <td>1.0</td>\n",
       "      <td>0.495500</td>\n",
       "      <td>...</td>\n",
       "      <td>10.0</td>\n",
       "      <td>0.417344</td>\n",
       "      <td>104.994646</td>\n",
       "      <td>1.0</td>\n",
       "      <td>0.872160</td>\n",
       "      <td>1.5</td>\n",
       "      <td>1.5</td>\n",
       "      <td>205903</td>\n",
       "      <td>205101</td>\n",
       "      <td>dikesnet</td>\n",
       "    </tr>\n",
       "    <tr>\n",
       "      <th>3</th>\n",
       "      <td>82</td>\n",
       "      <td>117.534907</td>\n",
       "      <td>10.0</td>\n",
       "      <td>0.200063</td>\n",
       "      <td>182.302882</td>\n",
       "      <td>1.5</td>\n",
       "      <td>0.964595</td>\n",
       "      <td>283.243660</td>\n",
       "      <td>10.0</td>\n",
       "      <td>0.257390</td>\n",
       "      <td>...</td>\n",
       "      <td>1.5</td>\n",
       "      <td>0.958602</td>\n",
       "      <td>330.691899</td>\n",
       "      <td>1.5</td>\n",
       "      <td>0.696232</td>\n",
       "      <td>2.5</td>\n",
       "      <td>3.5</td>\n",
       "      <td>205904</td>\n",
       "      <td>205101</td>\n",
       "      <td>dikesnet</td>\n",
       "    </tr>\n",
       "    <tr>\n",
       "      <th>4</th>\n",
       "      <td>113</td>\n",
       "      <td>269.695739</td>\n",
       "      <td>10.0</td>\n",
       "      <td>0.172967</td>\n",
       "      <td>77.019900</td>\n",
       "      <td>1.0</td>\n",
       "      <td>0.447764</td>\n",
       "      <td>139.189093</td>\n",
       "      <td>1.0</td>\n",
       "      <td>0.397870</td>\n",
       "      <td>...</td>\n",
       "      <td>1.5</td>\n",
       "      <td>0.008510</td>\n",
       "      <td>219.669583</td>\n",
       "      <td>1.0</td>\n",
       "      <td>0.384015</td>\n",
       "      <td>1.5</td>\n",
       "      <td>2.5</td>\n",
       "      <td>205905</td>\n",
       "      <td>205101</td>\n",
       "      <td>dikesnet</td>\n",
       "    </tr>\n",
       "    <tr>\n",
       "      <th>...</th>\n",
       "      <td>...</td>\n",
       "      <td>...</td>\n",
       "      <td>...</td>\n",
       "      <td>...</td>\n",
       "      <td>...</td>\n",
       "      <td>...</td>\n",
       "      <td>...</td>\n",
       "      <td>...</td>\n",
       "      <td>...</td>\n",
       "      <td>...</td>\n",
       "      <td>...</td>\n",
       "      <td>...</td>\n",
       "      <td>...</td>\n",
       "      <td>...</td>\n",
       "      <td>...</td>\n",
       "      <td>...</td>\n",
       "      <td>...</td>\n",
       "      <td>...</td>\n",
       "      <td>...</td>\n",
       "      <td>...</td>\n",
       "      <td>...</td>\n",
       "    </tr>\n",
       "    <tr>\n",
       "      <th>399995</th>\n",
       "      <td>92</td>\n",
       "      <td>204.729302</td>\n",
       "      <td>1.5</td>\n",
       "      <td>0.888777</td>\n",
       "      <td>175.396476</td>\n",
       "      <td>10.0</td>\n",
       "      <td>0.019208</td>\n",
       "      <td>57.100925</td>\n",
       "      <td>1.0</td>\n",
       "      <td>0.617473</td>\n",
       "      <td>...</td>\n",
       "      <td>1.5</td>\n",
       "      <td>0.196637</td>\n",
       "      <td>217.624138</td>\n",
       "      <td>10.0</td>\n",
       "      <td>0.927771</td>\n",
       "      <td>3.5</td>\n",
       "      <td>2.5</td>\n",
       "      <td>206396</td>\n",
       "      <td>205900</td>\n",
       "      <td>dikesnet</td>\n",
       "    </tr>\n",
       "    <tr>\n",
       "      <th>399996</th>\n",
       "      <td>11</td>\n",
       "      <td>313.020609</td>\n",
       "      <td>10.0</td>\n",
       "      <td>0.832282</td>\n",
       "      <td>66.679703</td>\n",
       "      <td>10.0</td>\n",
       "      <td>0.204920</td>\n",
       "      <td>130.582671</td>\n",
       "      <td>1.0</td>\n",
       "      <td>0.423069</td>\n",
       "      <td>...</td>\n",
       "      <td>10.0</td>\n",
       "      <td>0.343265</td>\n",
       "      <td>60.926266</td>\n",
       "      <td>1.5</td>\n",
       "      <td>0.453157</td>\n",
       "      <td>3.5</td>\n",
       "      <td>1.5</td>\n",
       "      <td>206397</td>\n",
       "      <td>205900</td>\n",
       "      <td>dikesnet</td>\n",
       "    </tr>\n",
       "    <tr>\n",
       "      <th>399997</th>\n",
       "      <td>74</td>\n",
       "      <td>345.866311</td>\n",
       "      <td>1.5</td>\n",
       "      <td>0.014725</td>\n",
       "      <td>221.529438</td>\n",
       "      <td>1.0</td>\n",
       "      <td>0.095595</td>\n",
       "      <td>72.914159</td>\n",
       "      <td>1.0</td>\n",
       "      <td>0.887542</td>\n",
       "      <td>...</td>\n",
       "      <td>1.0</td>\n",
       "      <td>0.023685</td>\n",
       "      <td>114.572319</td>\n",
       "      <td>1.5</td>\n",
       "      <td>0.270607</td>\n",
       "      <td>4.5</td>\n",
       "      <td>2.5</td>\n",
       "      <td>206398</td>\n",
       "      <td>205900</td>\n",
       "      <td>dikesnet</td>\n",
       "    </tr>\n",
       "    <tr>\n",
       "      <th>399998</th>\n",
       "      <td>16</td>\n",
       "      <td>167.702052</td>\n",
       "      <td>10.0</td>\n",
       "      <td>0.013255</td>\n",
       "      <td>188.230106</td>\n",
       "      <td>1.5</td>\n",
       "      <td>0.131265</td>\n",
       "      <td>301.025169</td>\n",
       "      <td>1.0</td>\n",
       "      <td>0.797965</td>\n",
       "      <td>...</td>\n",
       "      <td>1.5</td>\n",
       "      <td>0.888266</td>\n",
       "      <td>187.706670</td>\n",
       "      <td>1.0</td>\n",
       "      <td>0.097207</td>\n",
       "      <td>2.5</td>\n",
       "      <td>2.5</td>\n",
       "      <td>206399</td>\n",
       "      <td>205900</td>\n",
       "      <td>dikesnet</td>\n",
       "    </tr>\n",
       "    <tr>\n",
       "      <th>399999</th>\n",
       "      <td>118</td>\n",
       "      <td>284.278033</td>\n",
       "      <td>1.5</td>\n",
       "      <td>0.819838</td>\n",
       "      <td>307.714863</td>\n",
       "      <td>1.5</td>\n",
       "      <td>0.740073</td>\n",
       "      <td>239.824256</td>\n",
       "      <td>10.0</td>\n",
       "      <td>0.931519</td>\n",
       "      <td>...</td>\n",
       "      <td>10.0</td>\n",
       "      <td>0.465298</td>\n",
       "      <td>114.048605</td>\n",
       "      <td>1.0</td>\n",
       "      <td>0.681186</td>\n",
       "      <td>1.5</td>\n",
       "      <td>2.5</td>\n",
       "      <td>206400</td>\n",
       "      <td>205900</td>\n",
       "      <td>dikesnet</td>\n",
       "    </tr>\n",
       "  </tbody>\n",
       "</table>\n",
       "<p>400000 rows × 21 columns</p>\n",
       "</div>"
      ],
      "text/plain": [
       "        A.0_ID flood wave shape    A.1_Bmax A.1_Brate  A.1_pfail    A.2_Bmax  \\\n",
       "0                           128  251.879396       1.0   0.923106  291.867662   \n",
       "1                            60  194.657801       1.0   0.705556  196.414942   \n",
       "2                           110  152.047042       1.0   0.894195  183.193248   \n",
       "3                            82  117.534907      10.0   0.200063  182.302882   \n",
       "4                           113  269.695739      10.0   0.172967   77.019900   \n",
       "...                         ...         ...       ...        ...         ...   \n",
       "399995                       92  204.729302       1.5   0.888777  175.396476   \n",
       "399996                       11  313.020609      10.0   0.832282   66.679703   \n",
       "399997                       74  345.866311       1.5   0.014725  221.529438   \n",
       "399998                       16  167.702052      10.0   0.013255  188.230106   \n",
       "399999                      118  284.278033       1.5   0.819838  307.714863   \n",
       "\n",
       "       A.2_Brate  A.2_pfail    A.3_Bmax A.3_Brate  A.3_pfail  ...  A.4_Brate  \\\n",
       "0           10.0   0.887255  322.389498      10.0   0.967830  ...       10.0   \n",
       "1           10.0   0.876642   31.397941       1.0   0.007375  ...        1.0   \n",
       "2            1.0   0.405141  228.799687       1.0   0.495500  ...       10.0   \n",
       "3            1.5   0.964595  283.243660      10.0   0.257390  ...        1.5   \n",
       "4            1.0   0.447764  139.189093       1.0   0.397870  ...        1.5   \n",
       "...          ...        ...         ...       ...        ...  ...        ...   \n",
       "399995      10.0   0.019208   57.100925       1.0   0.617473  ...        1.5   \n",
       "399996      10.0   0.204920  130.582671       1.0   0.423069  ...       10.0   \n",
       "399997       1.0   0.095595   72.914159       1.0   0.887542  ...        1.0   \n",
       "399998       1.5   0.131265  301.025169       1.0   0.797965  ...        1.5   \n",
       "399999       1.5   0.740073  239.824256      10.0   0.931519  ...       10.0   \n",
       "\n",
       "       A.4_pfail    A.5_Bmax  A.5_Brate A.5_pfail  discount rate 0  \\\n",
       "0       0.874362   66.818719       10.0  0.107165              1.5   \n",
       "1       0.943311  322.555105        1.0  0.737610              1.5   \n",
       "2       0.417344  104.994646        1.0  0.872160              1.5   \n",
       "3       0.958602  330.691899        1.5  0.696232              2.5   \n",
       "4       0.008510  219.669583        1.0  0.384015              1.5   \n",
       "...          ...         ...        ...       ...              ...   \n",
       "399995  0.196637  217.624138       10.0  0.927771              3.5   \n",
       "399996  0.343265   60.926266        1.5  0.453157              3.5   \n",
       "399997  0.023685  114.572319        1.5  0.270607              4.5   \n",
       "399998  0.888266  187.706670        1.0  0.097207              2.5   \n",
       "399999  0.465298  114.048605        1.0  0.681186              1.5   \n",
       "\n",
       "       discount rate 1 scenario  policy     model  \n",
       "0                  2.5   205901  205101  dikesnet  \n",
       "1                  1.5   205902  205101  dikesnet  \n",
       "2                  1.5   205903  205101  dikesnet  \n",
       "3                  3.5   205904  205101  dikesnet  \n",
       "4                  2.5   205905  205101  dikesnet  \n",
       "...                ...      ...     ...       ...  \n",
       "399995             2.5   206396  205900  dikesnet  \n",
       "399996             1.5   206397  205900  dikesnet  \n",
       "399997             2.5   206398  205900  dikesnet  \n",
       "399998             2.5   206399  205900  dikesnet  \n",
       "399999             2.5   206400  205900  dikesnet  \n",
       "\n",
       "[400000 rows x 21 columns]"
      ]
     },
     "execution_count": 10,
     "metadata": {},
     "output_type": "execute_result"
    },
    {
     "ename": "",
     "evalue": "",
     "output_type": "error",
     "traceback": [
      "\u001b[1;31mThe Kernel crashed while executing code in the current cell or a previous cell. \n",
      "\u001b[1;31mPlease review the code in the cell(s) to identify a possible cause of the failure. \n",
      "\u001b[1;31mClick <a href='https://aka.ms/vscodeJupyterKernelCrash'>here</a> for more info. \n",
      "\u001b[1;31mView Jupyter <a href='command:jupyter.viewOutput'>log</a> for further details."
     ]
    }
   ],
   "source": [
    "experiments"
   ]
  },
  {
   "cell_type": "code",
   "execution_count": null,
   "id": "acabfb50",
   "metadata": {},
   "outputs": [
    {
     "name": "stderr",
     "output_type": "stream",
     "text": [
      "[MainProcess/INFO] column model dropped from analysis because it has only one category\n",
      "[MainProcess/INFO] 400000 points remaining, containing 20000 cases of interest\n"
     ]
    }
   ],
   "source": [
    "from ema_workbench.analysis import prim\n",
    "\n",
    "ema_logging.log_to_stderr(ema_logging.INFO)\n",
    "\n",
    "prim_alg = prim.Prim(x=experiments, y=y, threshold=0.7, peel_alpha=0.1, mode=RuleInductionType.BINARY)\n",
    "box_casualties = prim_alg.find_box()"
   ]
  },
  {
   "cell_type": "code",
   "execution_count": null,
   "id": "7500e894",
   "metadata": {},
   "outputs": [],
   "source": []
  }
 ],
 "metadata": {
  "kernelspec": {
   "display_name": "school",
   "language": "python",
   "name": "python3"
  },
  "language_info": {
   "codemirror_mode": {
    "name": "ipython",
    "version": 3
   },
   "file_extension": ".py",
   "mimetype": "text/x-python",
   "name": "python",
   "nbconvert_exporter": "python",
   "pygments_lexer": "ipython3",
   "version": "3.12.5"
  }
 },
 "nbformat": 4,
 "nbformat_minor": 5
}
