{
 "cells": [
  {
   "cell_type": "markdown",
   "id": "6c7b6af6",
   "metadata": {},
   "source": [
    "# Open Exploration (Disaggregated Outcomes)\n",
    "\n",
    "... [add NB description] ..."
   ]
  },
  {
   "cell_type": "markdown",
   "id": "e5652685",
   "metadata": {},
   "source": [
    "**Notebook Outline**\n",
    "1. [Model and Dependency Import](#1-model-and-dependency-import)  \n",
    "2. [Dike Model Simulation](#2-dike-model-simulation)  \n",
    "3. [Global Sensitivity Analysis](#3-global-sensitivity-analysis)  \n",
    "4. [Scenario Discovery](#4-scenario-discovery)"
   ]
  },
  {
   "cell_type": "markdown",
   "id": "e2274350",
   "metadata": {},
   "source": [
    "## 1. Model and dependency import"
   ]
  },
  {
   "cell_type": "code",
   "execution_count": 1,
   "id": "e2699bba",
   "metadata": {},
   "outputs": [],
   "source": [
    "# Dependencies\n",
    "import numpy as np\n",
    "import matplotlib.pyplot as plt\n",
    "import pandas as pd\n",
    "import seaborn as sns\n",
    "from ema_workbench import (Scenario, Policy, MultiprocessingEvaluator, perform_experiments, ema_logging)\n",
    "from ema_workbench import Samplers\n",
    "from ema_workbench import save_results, load_results\n",
    "from ema_workbench.analysis import feature_scoring\n",
    "from ema_workbench.analysis.scenario_discovery_util import RuleInductionType\n",
    "from ema_workbench.em_framework.salib_samplers import get_SALib_problem\n",
    "from SALib.analyze import sobol\n",
    "from ema_workbench.em_framework.salib_samplers import get_SALib_problem\n",
    "\n",
    "# Model\n",
    "from problem_formulation import get_model_for_problem_formulation"
   ]
  },
  {
   "cell_type": "code",
   "execution_count": 3,
   "id": "88ad0b93",
   "metadata": {},
   "outputs": [],
   "source": [
    "prob_formulation = 1\n",
    "\n",
    "model, steps = get_model_for_problem_formulation(prob_formulation)\n",
    "uncertainties = model.uncertainties\n",
    "levers = model.levers"
   ]
  },
  {
   "cell_type": "code",
   "execution_count": 4,
   "id": "9e4d63a9",
   "metadata": {},
   "outputs": [
    {
     "data": {
      "text/plain": [
       "(18, 21)"
      ]
     },
     "execution_count": 4,
     "metadata": {},
     "output_type": "execute_result"
    }
   ],
   "source": [
    "len(uncertainties), len(levers)"
   ]
  },
  {
   "cell_type": "code",
   "execution_count": 5,
   "id": "a6c4d4a6",
   "metadata": {},
   "outputs": [
    {
     "name": "stderr",
     "output_type": "stream",
     "text": [
      "[MainProcess/INFO] pool started with 4 workers\n",
      "/opt/anaconda3/envs/school/lib/python3.12/site-packages/scipy/stats/_qmc.py:958: UserWarning: The balance properties of Sobol' points require n to be a power of 2.\n",
      "  sample = self._random(n, workers=workers)\n",
      "[MainProcess/INFO] performing 1 scenarios * 193600 policies * 1 model(s) = 193600 experiments\n",
      "100%|████████████████████████████████| 193600/193600 [2:44:14<00:00, 19.65it/s]\n",
      "[MainProcess/INFO] experiments finished\n",
      "[MainProcess/INFO] terminating pool\n",
      "[MainProcess/INFO] results saved successfully to /Users/racheldelvin/Desktop/epa141a-flood-policy-optimization-overijssel/final assignment/results/GSA_PF1_S1_P4400_.tar.gz\n"
     ]
    }
   ],
   "source": [
    "ema_logging.log_to_stderr(ema_logging.INFO)\n",
    "\n",
    "D = len(model.levers)\n",
    "N = 100  \n",
    "n_scenario = 1\n",
    "n_policy = N * (2 * D + 2)\n",
    "\n",
    "with MultiprocessingEvaluator(model, n_processes=4) as evaluator:\n",
    "    results = evaluator.perform_experiments(scenarios=n_scenario,\n",
    "                                            policies=n_policy,\n",
    "                                            lever_sampling=Samplers.SOBOL\n",
    "                                            )\n",
    "\n",
    "save_results(results, 'results/GSA_PF{}_S{}_P{}_.tar.gz'.format(prob_formulation,n_scenario,n_policy))"
   ]
  },
  {
   "cell_type": "code",
   "execution_count": null,
   "id": "da11c413",
   "metadata": {},
   "outputs": [],
   "source": [
    "ema_logging.log_to_stderr(ema_logging.INFO)\n",
    "\n",
    "prob_formulation = 6\n",
    "n_scenario = 1000\n",
    "n_policy = 100\n",
    "\n",
    "with MultiprocessingEvaluator(model, n_processes=4) as evaluator:\n",
    "    results = evaluator.perform_experiments(scenarios=n_scenario,\n",
    "                                            policies=n_policy,\n",
    "                                            lever_sampling=Samplers.LHS\n",
    "                                            )\n",
    "\n",
    "save_results(results, 'results/GSA_PF{}_S{}_P{}_.tar.gz'.format(prob_formulation,n_scenario,n_policy))"
   ]
  },
  {
   "cell_type": "code",
   "execution_count": 2,
   "id": "c1d50ed0",
   "metadata": {},
   "outputs": [],
   "source": [
    "# Initialize Model\n",
    "prob_formulation = 1\n",
    "n_scenario = 50\n",
    "n_policy = 50\n",
    "\n",
    "model, steps = get_model_for_problem_formulation(prob_formulation)\n",
    "uncertainties = model.uncertainties\n",
    "levers = model.levers"
   ]
  },
  {
   "cell_type": "code",
   "execution_count": 3,
   "id": "dca1b9f2",
   "metadata": {},
   "outputs": [
    {
     "data": {
      "text/plain": [
       "(18, 21)"
      ]
     },
     "execution_count": 3,
     "metadata": {},
     "output_type": "execute_result"
    }
   ],
   "source": [
    "len(uncertainties), len(levers)"
   ]
  },
  {
   "cell_type": "markdown",
   "id": "d664c868",
   "metadata": {},
   "source": [
    "Uncertainties and Policies value ranges are already set in problem_formulation.py"
   ]
  },
  {
   "cell_type": "code",
   "execution_count": 4,
   "id": "8259a19f",
   "metadata": {},
   "outputs": [
    {
     "name": "stderr",
     "output_type": "stream",
     "text": [
      "[MainProcess/INFO] pool started with 4 workers\n",
      "/opt/anaconda3/envs/school/lib/python3.12/site-packages/scipy/stats/_qmc.py:958: UserWarning: The balance properties of Sobol' points require n to be a power of 2.\n",
      "  sample = self._random(n, workers=workers)\n",
      "[MainProcess/INFO] performing 1900 scenarios * 50 policies * 1 model(s) = 95000 experiments\n",
      "100%|██████████████████████████████████| 95000/95000 [1:14:45<00:00, 21.18it/s]\n",
      "[MainProcess/INFO] experiments finished\n",
      "[MainProcess/INFO] terminating pool\n",
      "[MainProcess/INFO] results saved successfully to /Users/racheldelvin/Desktop/epa141a-flood-policy-optimization-overijssel/final assignment/results/GSA_PF1_S50_P50_.tar.gz\n"
     ]
    }
   ],
   "source": [
    "ema_logging.log_to_stderr(ema_logging.INFO)\n",
    "\n",
    "with MultiprocessingEvaluator(model, n_processes=4) as evaluator:\n",
    "    results = evaluator.perform_experiments(scenarios=n_scenario,\n",
    "                                            policies=n_policy,\n",
    "                                            uncertainty_sampling=Samplers.SOBOL)\n",
    "    \n",
    "save_results(results, 'results/GSA_PF{}_S{}_P{}_.tar.gz'.format(prob_formulation,n_scenario,n_policy))"
   ]
  },
  {
   "cell_type": "code",
   "execution_count": 5,
   "id": "6181868b",
   "metadata": {},
   "outputs": [],
   "source": [
    "experiments, outcomes = results"
   ]
  },
  {
   "cell_type": "code",
   "execution_count": null,
   "id": "4e1a3af4",
   "metadata": {},
   "outputs": [
    {
     "data": {
      "text/plain": [
       "{'Expected Annual Damage': array([35160052.90064293, 33275607.7323727 , 35160052.90064293,\n",
       "        35160052.90064293, 35160052.90064293, 35160052.90064293,\n",
       "        35160052.90064293, 75935055.780017  , 35160052.90064293,\n",
       "        35160052.90064293,  2129956.59135193, 35160052.90064293,\n",
       "        35160052.90064293, 35160052.90064293, 35160052.90064293,\n",
       "        35160052.90064293, 35160052.90064293, 35160052.90064293,\n",
       "        35047616.54683463, 38296922.84048064, 13228424.24593195,\n",
       "        13228424.24593195, 13228424.24593195, 13228424.24593195,\n",
       "        13228424.24593195,   902706.71124907, 13228424.24593195,\n",
       "        13228424.24593195, 46227116.76196779, 13228424.24593195,\n",
       "        13228424.24593195, 13228424.24593195, 13228424.24593195,\n",
       "        13228424.24593195, 13228424.24593195, 13228424.24593195,\n",
       "        14598899.5794874 , 13228424.24593195]),\n",
       " 'Total Investment Costs': array([1.78818361e+09, 1.78818357e+09, 1.78818361e+09, 1.78818361e+09,\n",
       "        1.78818361e+09, 1.78818361e+09, 1.78818361e+09, 1.78818494e+09,\n",
       "        1.78818361e+09, 1.78818361e+09, 1.78818258e+09, 1.78818361e+09,\n",
       "        1.78818361e+09, 1.78818361e+09, 1.78818361e+09, 1.78818361e+09,\n",
       "        1.78818361e+09, 1.78818361e+09, 1.78818361e+09, 1.78818386e+09,\n",
       "        1.78818297e+09, 1.78818297e+09, 1.78818297e+09, 1.78818297e+09,\n",
       "        1.78818297e+09, 1.78818254e+09, 1.78818297e+09, 1.78818297e+09,\n",
       "        1.78818404e+09, 1.78818297e+09, 1.78818297e+09, 1.78818297e+09,\n",
       "        1.78818297e+09, 1.78818297e+09, 1.78818297e+09, 1.78818297e+09,\n",
       "        1.78818297e+09, 1.78818297e+09]),\n",
       " 'Expected Number of Deaths': array([0.03248486, 0.03092578, 0.03248486, 0.03248486, 0.03248486,\n",
       "        0.03248486, 0.03248486, 0.04890393, 0.03248486, 0.03248486,\n",
       "        0.00096318, 0.03248486, 0.03248486, 0.03248486, 0.03248486,\n",
       "        0.03248486, 0.03248486, 0.03248486, 0.03248486, 0.01739479,\n",
       "        0.00605448, 0.00605448, 0.00605448, 0.00605448, 0.00605448,\n",
       "        0.00043184, 0.00605448, 0.00605448, 0.036566  , 0.00605448,\n",
       "        0.00605448, 0.00605448, 0.00605448, 0.00605448, 0.00605448,\n",
       "        0.00605448, 0.00605448, 0.00605448])}"
      ]
     },
     "execution_count": 23,
     "metadata": {},
     "output_type": "execute_result"
    }
   ],
   "source": [
    "outcomes"
   ]
  },
  {
   "cell_type": "code",
   "execution_count": 10,
   "id": "3b42136f",
   "metadata": {},
   "outputs": [
    {
     "data": {
      "text/html": [
       "<div>\n",
       "<style scoped>\n",
       "    .dataframe tbody tr th:only-of-type {\n",
       "        vertical-align: middle;\n",
       "    }\n",
       "\n",
       "    .dataframe tbody tr th {\n",
       "        vertical-align: top;\n",
       "    }\n",
       "\n",
       "    .dataframe thead th {\n",
       "        text-align: right;\n",
       "    }\n",
       "</style>\n",
       "<table border=\"1\" class=\"dataframe\">\n",
       "  <thead>\n",
       "    <tr style=\"text-align: right;\">\n",
       "      <th></th>\n",
       "      <th>A.0_ID flood wave shape</th>\n",
       "      <th>A.1_Bmax</th>\n",
       "      <th>A.1_Brate</th>\n",
       "      <th>A.1_pfail</th>\n",
       "      <th>A.2_Bmax</th>\n",
       "      <th>A.2_Brate</th>\n",
       "      <th>A.2_pfail</th>\n",
       "      <th>A.3_Bmax</th>\n",
       "      <th>A.3_Brate</th>\n",
       "      <th>A.3_pfail</th>\n",
       "      <th>...</th>\n",
       "      <th>A.3_DikeIncrease 0</th>\n",
       "      <th>A.3_DikeIncrease 1</th>\n",
       "      <th>A.4_DikeIncrease 0</th>\n",
       "      <th>A.4_DikeIncrease 1</th>\n",
       "      <th>A.5_DikeIncrease 0</th>\n",
       "      <th>A.5_DikeIncrease 1</th>\n",
       "      <th>EWS_DaysToThreat</th>\n",
       "      <th>scenario</th>\n",
       "      <th>policy</th>\n",
       "      <th>model</th>\n",
       "    </tr>\n",
       "  </thead>\n",
       "  <tbody>\n",
       "    <tr>\n",
       "      <th>0</th>\n",
       "      <td>35</td>\n",
       "      <td>200.708465</td>\n",
       "      <td>1.5</td>\n",
       "      <td>0.632905</td>\n",
       "      <td>84.898372</td>\n",
       "      <td>10.0</td>\n",
       "      <td>0.083071</td>\n",
       "      <td>254.519537</td>\n",
       "      <td>1.5</td>\n",
       "      <td>0.487378</td>\n",
       "      <td>...</td>\n",
       "      <td>10</td>\n",
       "      <td>0</td>\n",
       "      <td>2</td>\n",
       "      <td>3</td>\n",
       "      <td>4</td>\n",
       "      <td>4</td>\n",
       "      <td>2</td>\n",
       "      <td>50</td>\n",
       "      <td>0</td>\n",
       "      <td>dikesnet</td>\n",
       "    </tr>\n",
       "    <tr>\n",
       "      <th>1</th>\n",
       "      <td>70</td>\n",
       "      <td>200.708465</td>\n",
       "      <td>1.5</td>\n",
       "      <td>0.632905</td>\n",
       "      <td>84.898372</td>\n",
       "      <td>10.0</td>\n",
       "      <td>0.083071</td>\n",
       "      <td>254.519537</td>\n",
       "      <td>1.5</td>\n",
       "      <td>0.487378</td>\n",
       "      <td>...</td>\n",
       "      <td>10</td>\n",
       "      <td>0</td>\n",
       "      <td>2</td>\n",
       "      <td>3</td>\n",
       "      <td>4</td>\n",
       "      <td>4</td>\n",
       "      <td>2</td>\n",
       "      <td>51</td>\n",
       "      <td>0</td>\n",
       "      <td>dikesnet</td>\n",
       "    </tr>\n",
       "    <tr>\n",
       "      <th>2</th>\n",
       "      <td>35</td>\n",
       "      <td>228.560452</td>\n",
       "      <td>1.5</td>\n",
       "      <td>0.632905</td>\n",
       "      <td>84.898372</td>\n",
       "      <td>10.0</td>\n",
       "      <td>0.083071</td>\n",
       "      <td>254.519537</td>\n",
       "      <td>1.5</td>\n",
       "      <td>0.487378</td>\n",
       "      <td>...</td>\n",
       "      <td>10</td>\n",
       "      <td>0</td>\n",
       "      <td>2</td>\n",
       "      <td>3</td>\n",
       "      <td>4</td>\n",
       "      <td>4</td>\n",
       "      <td>2</td>\n",
       "      <td>52</td>\n",
       "      <td>0</td>\n",
       "      <td>dikesnet</td>\n",
       "    </tr>\n",
       "    <tr>\n",
       "      <th>3</th>\n",
       "      <td>35</td>\n",
       "      <td>200.708465</td>\n",
       "      <td>1.0</td>\n",
       "      <td>0.632905</td>\n",
       "      <td>84.898372</td>\n",
       "      <td>10.0</td>\n",
       "      <td>0.083071</td>\n",
       "      <td>254.519537</td>\n",
       "      <td>1.5</td>\n",
       "      <td>0.487378</td>\n",
       "      <td>...</td>\n",
       "      <td>10</td>\n",
       "      <td>0</td>\n",
       "      <td>2</td>\n",
       "      <td>3</td>\n",
       "      <td>4</td>\n",
       "      <td>4</td>\n",
       "      <td>2</td>\n",
       "      <td>53</td>\n",
       "      <td>0</td>\n",
       "      <td>dikesnet</td>\n",
       "    </tr>\n",
       "    <tr>\n",
       "      <th>4</th>\n",
       "      <td>35</td>\n",
       "      <td>200.708465</td>\n",
       "      <td>1.5</td>\n",
       "      <td>0.073123</td>\n",
       "      <td>84.898372</td>\n",
       "      <td>10.0</td>\n",
       "      <td>0.083071</td>\n",
       "      <td>254.519537</td>\n",
       "      <td>1.5</td>\n",
       "      <td>0.487378</td>\n",
       "      <td>...</td>\n",
       "      <td>10</td>\n",
       "      <td>0</td>\n",
       "      <td>2</td>\n",
       "      <td>3</td>\n",
       "      <td>4</td>\n",
       "      <td>4</td>\n",
       "      <td>2</td>\n",
       "      <td>54</td>\n",
       "      <td>0</td>\n",
       "      <td>dikesnet</td>\n",
       "    </tr>\n",
       "  </tbody>\n",
       "</table>\n",
       "<p>5 rows × 42 columns</p>\n",
       "</div>"
      ],
      "text/plain": [
       "   A.0_ID flood wave shape    A.1_Bmax A.1_Brate  A.1_pfail   A.2_Bmax  \\\n",
       "0                       35  200.708465       1.5   0.632905  84.898372   \n",
       "1                       70  200.708465       1.5   0.632905  84.898372   \n",
       "2                       35  228.560452       1.5   0.632905  84.898372   \n",
       "3                       35  200.708465       1.0   0.632905  84.898372   \n",
       "4                       35  200.708465       1.5   0.073123  84.898372   \n",
       "\n",
       "  A.2_Brate  A.2_pfail    A.3_Bmax A.3_Brate  A.3_pfail  ...  \\\n",
       "0      10.0   0.083071  254.519537       1.5   0.487378  ...   \n",
       "1      10.0   0.083071  254.519537       1.5   0.487378  ...   \n",
       "2      10.0   0.083071  254.519537       1.5   0.487378  ...   \n",
       "3      10.0   0.083071  254.519537       1.5   0.487378  ...   \n",
       "4      10.0   0.083071  254.519537       1.5   0.487378  ...   \n",
       "\n",
       "   A.3_DikeIncrease 0 A.3_DikeIncrease 1  A.4_DikeIncrease 0  \\\n",
       "0                  10                  0                   2   \n",
       "1                  10                  0                   2   \n",
       "2                  10                  0                   2   \n",
       "3                  10                  0                   2   \n",
       "4                  10                  0                   2   \n",
       "\n",
       "   A.4_DikeIncrease 1 A.5_DikeIncrease 0  A.5_DikeIncrease 1 EWS_DaysToThreat  \\\n",
       "0                   3                  4                   4                2   \n",
       "1                   3                  4                   4                2   \n",
       "2                   3                  4                   4                2   \n",
       "3                   3                  4                   4                2   \n",
       "4                   3                  4                   4                2   \n",
       "\n",
       "  scenario  policy     model  \n",
       "0       50       0  dikesnet  \n",
       "1       51       0  dikesnet  \n",
       "2       52       0  dikesnet  \n",
       "3       53       0  dikesnet  \n",
       "4       54       0  dikesnet  \n",
       "\n",
       "[5 rows x 42 columns]"
      ]
     },
     "execution_count": 10,
     "metadata": {},
     "output_type": "execute_result"
    }
   ],
   "source": [
    "experiments.head()"
   ]
  },
  {
   "cell_type": "code",
   "execution_count": 21,
   "id": "0198f569",
   "metadata": {},
   "outputs": [
    {
     "data": {
      "text/plain": [
       "{'num_vars': 21,\n",
       " 'names': ['0_RfR 0',\n",
       "  '0_RfR 1',\n",
       "  '1_RfR 0',\n",
       "  '1_RfR 1',\n",
       "  '2_RfR 0',\n",
       "  '2_RfR 1',\n",
       "  '3_RfR 0',\n",
       "  '3_RfR 1',\n",
       "  '4_RfR 0',\n",
       "  '4_RfR 1',\n",
       "  'A.1_DikeIncrease 0',\n",
       "  'A.1_DikeIncrease 1',\n",
       "  'A.2_DikeIncrease 0',\n",
       "  'A.2_DikeIncrease 1',\n",
       "  'A.3_DikeIncrease 0',\n",
       "  'A.3_DikeIncrease 1',\n",
       "  'A.4_DikeIncrease 0',\n",
       "  'A.4_DikeIncrease 1',\n",
       "  'A.5_DikeIncrease 0',\n",
       "  'A.5_DikeIncrease 1',\n",
       "  'EWS_DaysToThreat'],\n",
       " 'bounds': [(0, 2),\n",
       "  (0, 2),\n",
       "  (0, 2),\n",
       "  (0, 2),\n",
       "  (0, 2),\n",
       "  (0, 2),\n",
       "  (0, 2),\n",
       "  (0, 2),\n",
       "  (0, 2),\n",
       "  (0, 2),\n",
       "  (0, 11),\n",
       "  (0, 11),\n",
       "  (0, 11),\n",
       "  (0, 11),\n",
       "  (0, 11),\n",
       "  (0, 11),\n",
       "  (0, 11),\n",
       "  (0, 11),\n",
       "  (0, 11),\n",
       "  (0, 11),\n",
       "  (0, 5)]}"
      ]
     },
     "execution_count": 21,
     "metadata": {},
     "output_type": "execute_result"
    }
   ],
   "source": [
    "problem = get_SALib_problem(levers)\n",
    "problem"
   ]
  },
  {
   "cell_type": "code",
   "execution_count": 23,
   "id": "6f27f011",
   "metadata": {},
   "outputs": [],
   "source": [
    "outcome_var = 'Expected Number of Deaths'\n",
    "casualties_sobol = outcomes[outcome_var]"
   ]
  },
  {
   "cell_type": "code",
   "execution_count": 16,
   "id": "7ccbea4c",
   "metadata": {},
   "outputs": [],
   "source": [
    "outcome_var = 'Expected Number of Deaths'\n",
    "\n",
    "casualties_sobol = outcomes[outcome_var][:]\n",
    "casualties_mean_sobol = np.mean(outcomes[outcome_var][:])\n",
    "casualties_std_sobol = np.std(outcomes[outcome_var][:])"
   ]
  },
  {
   "cell_type": "code",
   "execution_count": 24,
   "id": "de45c5f4",
   "metadata": {},
   "outputs": [
    {
     "data": {
      "text/plain": [
       "array([0.02010169, 0.0201264 , 0.02010169, ..., 0.00184217, 0.00184217,\n",
       "       0.00184217])"
      ]
     },
     "execution_count": 24,
     "metadata": {},
     "output_type": "execute_result"
    }
   ],
   "source": [
    "casualties_sobol"
   ]
  },
  {
   "cell_type": "code",
   "execution_count": 26,
   "id": "0f00845d",
   "metadata": {},
   "outputs": [
    {
     "ename": "RuntimeError",
     "evalue": "\n        Incorrect number of samples in model output file.\n        Confirm that calc_second_order matches option used during sampling.",
     "output_type": "error",
     "traceback": [
      "\u001b[0;31m---------------------------------------------------------------------------\u001b[0m",
      "\u001b[0;31mRuntimeError\u001b[0m                              Traceback (most recent call last)",
      "Cell \u001b[0;32mIn[26], line 1\u001b[0m\n\u001b[0;32m----> 1\u001b[0m Si \u001b[38;5;241m=\u001b[39m \u001b[43msobol\u001b[49m\u001b[38;5;241;43m.\u001b[39;49m\u001b[43manalyze\u001b[49m\u001b[43m(\u001b[49m\u001b[43mproblem\u001b[49m\u001b[43m,\u001b[49m\n\u001b[1;32m      2\u001b[0m \u001b[43m                   \u001b[49m\u001b[43mY\u001b[49m\u001b[38;5;241;43m=\u001b[39;49m\u001b[43mcasualties_sobol\u001b[49m\u001b[43m,\u001b[49m\n\u001b[1;32m      3\u001b[0m \u001b[43m                   \u001b[49m\u001b[43mcalc_second_order\u001b[49m\u001b[38;5;241;43m=\u001b[39;49m\u001b[38;5;28;43;01mTrue\u001b[39;49;00m\u001b[43m,\u001b[49m\n\u001b[1;32m      4\u001b[0m \u001b[43m                   \u001b[49m\u001b[43mprint_to_console\u001b[49m\u001b[38;5;241;43m=\u001b[39;49m\u001b[38;5;28;43;01mTrue\u001b[39;49;00m\u001b[43m)\u001b[49m\n",
      "File \u001b[0;32m/opt/anaconda3/envs/school/lib/python3.12/site-packages/SALib/analyze/sobol.py:128\u001b[0m, in \u001b[0;36manalyze\u001b[0;34m(problem, Y, calc_second_order, num_resamples, conf_level, print_to_console, parallel, n_processors, keep_resamples, seed)\u001b[0m\n\u001b[1;32m    126\u001b[0m     N \u001b[38;5;241m=\u001b[39m \u001b[38;5;28mint\u001b[39m(Y\u001b[38;5;241m.\u001b[39msize \u001b[38;5;241m/\u001b[39m (D \u001b[38;5;241m+\u001b[39m \u001b[38;5;241m2\u001b[39m))\n\u001b[1;32m    127\u001b[0m \u001b[38;5;28;01melse\u001b[39;00m:\n\u001b[0;32m--> 128\u001b[0m     \u001b[38;5;28;01mraise\u001b[39;00m \u001b[38;5;167;01mRuntimeError\u001b[39;00m(\n\u001b[1;32m    129\u001b[0m \u001b[38;5;250m        \u001b[39m\u001b[38;5;124;03m\"\"\"\u001b[39;00m\n\u001b[1;32m    130\u001b[0m \u001b[38;5;124;03m    Incorrect number of samples in model output file.\u001b[39;00m\n\u001b[1;32m    131\u001b[0m \u001b[38;5;124;03m    Confirm that calc_second_order matches option used during sampling.\"\"\"\u001b[39;00m\n\u001b[1;32m    132\u001b[0m     )\n\u001b[1;32m    134\u001b[0m \u001b[38;5;28;01mif\u001b[39;00m \u001b[38;5;129;01mnot\u001b[39;00m \u001b[38;5;241m0\u001b[39m \u001b[38;5;241m<\u001b[39m conf_level \u001b[38;5;241m<\u001b[39m \u001b[38;5;241m1\u001b[39m:\n\u001b[1;32m    135\u001b[0m     \u001b[38;5;28;01mraise\u001b[39;00m \u001b[38;5;167;01mRuntimeError\u001b[39;00m(\u001b[38;5;124m\"\u001b[39m\u001b[38;5;124mConfidence level must be between 0-1.\u001b[39m\u001b[38;5;124m\"\u001b[39m)\n",
      "\u001b[0;31mRuntimeError\u001b[0m: \n        Incorrect number of samples in model output file.\n        Confirm that calc_second_order matches option used during sampling."
     ]
    }
   ],
   "source": [
    "Si = sobol.analyze(problem,\n",
    "                   Y=casualties_sobol,\n",
    "                   calc_second_order=True,\n",
    "                   print_to_console=True)"
   ]
  },
  {
   "cell_type": "markdown",
   "id": "f3e3523e",
   "metadata": {},
   "source": [
    "## 2. Dike Model Simulation"
   ]
  },
  {
   "cell_type": "markdown",
   "id": "96a8c3e2",
   "metadata": {},
   "source": [
    "### 2.1 Sampling in the scenario (uncertainty) space\n",
    "\n",
    "Systematically vary uncertain factors while keeping policy levers fixed, to analyze their impact on disaggregated outcomes (problem formulation 6)."
   ]
  },
  {
   "cell_type": "code",
   "execution_count": null,
   "id": "21383635",
   "metadata": {},
   "outputs": [],
   "source": [
    "# "
   ]
  },
  {
   "cell_type": "markdown",
   "id": "20937578",
   "metadata": {},
   "source": [
    "### 2.2 Sampling in the policy (lever) space\n",
    "\n",
    "Systematically vary policy levers while keeping the scenario (uncertainties) fixed, to analyze their impact on disaggregated outcomes (problem formulation 6)."
   ]
  },
  {
   "cell_type": "code",
   "execution_count": null,
   "id": "11aff35a",
   "metadata": {},
   "outputs": [
    {
     "name": "stderr",
     "output_type": "stream",
     "text": [
      "[MainProcess/INFO] pool started with 6 workers\n",
      "[MainProcess/INFO] performing 1 scenarios * 11264 policies * 1 model(s) = 11264 experiments\n",
      "100%|████████████████████████████████████| 11264/11264 [03:36<00:00, 52.12it/s]\n",
      "[MainProcess/INFO] experiments finished\n",
      "[MainProcess/INFO] terminating pool\n",
      "[MainProcess/INFO] results saved successfully to d:\\GitHub\\epa141a-flood-policy-optimization-overijssel\\final assignment\\results\\data\\GSA_PF6_S1_P256_.tar.gz\n"
     ]
    }
   ],
   "source": [
    "######## Problem Formulation\n",
    "pf = 6\n",
    "n_scenario = 1\n",
    "n_policy = 256\n",
    "\n",
    "######## Initialize Model\n",
    "model, steps = get_model_for_problem_formulation(pf)\n",
    "uncertainties = model.uncertainties\n",
    "levers = model.levers\n",
    "\n",
    "######## Reference Scenario (Most Likely)\n",
    "ref_dict = {'A.1_Bmax':170,\n",
    "            'A.1_Brate':1.5,\n",
    "            'A.1_pfail':0.5,\n",
    "            'A.2_Bmax':170,\n",
    "            'A.2_Brate':1.5,\n",
    "            'A.2_pfail':0.5,\n",
    "            'A.3_Bmax':170,\n",
    "            'A.3_Brate':1.5,\n",
    "            'A.3_pfail':0.5,\n",
    "            'A.4_Bmax':170,\n",
    "            'A.4_Brate':1.5,\n",
    "            'A.4_pfail':0.5,\n",
    "            'A.5_Bmax':170,\n",
    "            'A.5_Brate':1.5,\n",
    "            'A.5_pfail':0.5,\n",
    "            'A.0_ID flood wave shape': 4,\n",
    "            'discount rate 0': 3.5,\n",
    "            'discount rate 1': 3.5,}\n",
    "\n",
    "ref_scenario = [Scenario('reference', **ref_dict)]\n",
    "\n",
    "######## Run Model\n",
    "ema_logging.log_to_stderr(ema_logging.INFO)\n",
    "with MultiprocessingEvaluator(model, n_processes=6) as evaluator:\n",
    "    results = evaluator.perform_experiments(scenarios=ref_scenario, policies=n_policy, lever_sampling=Samplers.SOBOL)\n",
    "\n",
    "save_results(results, 'results/data/GSA_PF{}_S{}_P{}_.tar.gz'.format(pf, n_scenario, n_policy))"
   ]
  },
  {
   "cell_type": "markdown",
   "id": "35d22e9c",
   "metadata": {},
   "source": [
    "## 3. Global Sensitivity Analysis"
   ]
  },
  {
   "cell_type": "markdown",
   "id": "1869e421",
   "metadata": {},
   "source": [
    "### 3.1 Feature Scoring of Scenario Space"
   ]
  },
  {
   "cell_type": "code",
   "execution_count": null,
   "id": "a46cf3fb",
   "metadata": {},
   "outputs": [
    {
     "name": "stderr",
     "output_type": "stream",
     "text": [
      "[MainProcess/INFO] results loaded successfully from d:\\GitHub\\epa141a-flood-policy-optimization-overijssel\\final assignment\\results\\data\\GSA_PF6_S20000_P1_.tar.gz\n"
     ]
    }
   ],
   "source": [
    "######## Problem Formulation\n",
    "pf, n_scenario, n_policy = 6, 20000, 1 \n",
    "\n",
    "model, steps = get_model_for_problem_formulation(pf)\n",
    "uncertainties = model.uncertainties\n",
    "levers = model.levers\n",
    "\n",
    "######## Load results\n",
    "results = load_results('results/data/GSA_PF{}_S{}_P{}_.tar.gz'.format(pf, n_scenario, n_policy))\n",
    "experiments, outcomes = results\n",
    "\n",
    "######## drop levers\n",
    "experiments.drop(columns=list(model.levers.keys()), inplace=True)"
   ]
  },
  {
   "cell_type": "code",
   "execution_count": null,
   "id": "4ee0710e",
   "metadata": {},
   "outputs": [
    {
     "data": {
      "text/html": [
       "<div>\n",
       "<style scoped>\n",
       "    .dataframe tbody tr th:only-of-type {\n",
       "        vertical-align: middle;\n",
       "    }\n",
       "\n",
       "    .dataframe tbody tr th {\n",
       "        vertical-align: top;\n",
       "    }\n",
       "\n",
       "    .dataframe thead th {\n",
       "        text-align: right;\n",
       "    }\n",
       "</style>\n",
       "<table border=\"1\" class=\"dataframe\">\n",
       "  <thead>\n",
       "    <tr style=\"text-align: right;\">\n",
       "      <th></th>\n",
       "      <th>A.0_ID flood wave shape</th>\n",
       "      <th>A.1_Bmax</th>\n",
       "      <th>A.1_Brate</th>\n",
       "      <th>A.1_pfail</th>\n",
       "      <th>A.2_Bmax</th>\n",
       "      <th>A.2_Brate</th>\n",
       "      <th>A.2_pfail</th>\n",
       "      <th>A.3_Bmax</th>\n",
       "      <th>A.3_Brate</th>\n",
       "      <th>A.3_pfail</th>\n",
       "      <th>...</th>\n",
       "      <th>A.4_Brate</th>\n",
       "      <th>A.4_pfail</th>\n",
       "      <th>A.5_Bmax</th>\n",
       "      <th>A.5_Brate</th>\n",
       "      <th>A.5_pfail</th>\n",
       "      <th>discount rate 0</th>\n",
       "      <th>discount rate 1</th>\n",
       "      <th>scenario</th>\n",
       "      <th>policy</th>\n",
       "      <th>model</th>\n",
       "    </tr>\n",
       "  </thead>\n",
       "  <tbody>\n",
       "    <tr>\n",
       "      <th>0</th>\n",
       "      <td>15</td>\n",
       "      <td>104.951766</td>\n",
       "      <td>1.5</td>\n",
       "      <td>0.866037</td>\n",
       "      <td>72.423761</td>\n",
       "      <td>1.5</td>\n",
       "      <td>0.784919</td>\n",
       "      <td>260.727340</td>\n",
       "      <td>1.0</td>\n",
       "      <td>0.427487</td>\n",
       "      <td>...</td>\n",
       "      <td>10.0</td>\n",
       "      <td>0.746491</td>\n",
       "      <td>329.289172</td>\n",
       "      <td>1.0</td>\n",
       "      <td>0.326723</td>\n",
       "      <td>4.5</td>\n",
       "      <td>1.5</td>\n",
       "      <td>26264</td>\n",
       "      <td>policy 1</td>\n",
       "      <td>dikesnet</td>\n",
       "    </tr>\n",
       "    <tr>\n",
       "      <th>1</th>\n",
       "      <td>27</td>\n",
       "      <td>268.758784</td>\n",
       "      <td>1.0</td>\n",
       "      <td>0.439213</td>\n",
       "      <td>179.347355</td>\n",
       "      <td>10.0</td>\n",
       "      <td>0.250512</td>\n",
       "      <td>98.160975</td>\n",
       "      <td>1.0</td>\n",
       "      <td>0.125769</td>\n",
       "      <td>...</td>\n",
       "      <td>1.5</td>\n",
       "      <td>0.920575</td>\n",
       "      <td>224.384026</td>\n",
       "      <td>10.0</td>\n",
       "      <td>0.931482</td>\n",
       "      <td>4.5</td>\n",
       "      <td>1.5</td>\n",
       "      <td>26265</td>\n",
       "      <td>policy 1</td>\n",
       "      <td>dikesnet</td>\n",
       "    </tr>\n",
       "    <tr>\n",
       "      <th>2</th>\n",
       "      <td>120</td>\n",
       "      <td>274.597925</td>\n",
       "      <td>10.0</td>\n",
       "      <td>0.752513</td>\n",
       "      <td>174.253795</td>\n",
       "      <td>1.5</td>\n",
       "      <td>0.358975</td>\n",
       "      <td>219.550772</td>\n",
       "      <td>10.0</td>\n",
       "      <td>0.254221</td>\n",
       "      <td>...</td>\n",
       "      <td>1.0</td>\n",
       "      <td>0.564166</td>\n",
       "      <td>66.633747</td>\n",
       "      <td>10.0</td>\n",
       "      <td>0.731416</td>\n",
       "      <td>3.5</td>\n",
       "      <td>4.5</td>\n",
       "      <td>26266</td>\n",
       "      <td>policy 1</td>\n",
       "      <td>dikesnet</td>\n",
       "    </tr>\n",
       "    <tr>\n",
       "      <th>3</th>\n",
       "      <td>51</td>\n",
       "      <td>229.349571</td>\n",
       "      <td>10.0</td>\n",
       "      <td>0.308457</td>\n",
       "      <td>76.893599</td>\n",
       "      <td>10.0</td>\n",
       "      <td>0.470869</td>\n",
       "      <td>223.435463</td>\n",
       "      <td>10.0</td>\n",
       "      <td>0.801025</td>\n",
       "      <td>...</td>\n",
       "      <td>10.0</td>\n",
       "      <td>0.340353</td>\n",
       "      <td>177.164724</td>\n",
       "      <td>10.0</td>\n",
       "      <td>0.544277</td>\n",
       "      <td>2.5</td>\n",
       "      <td>4.5</td>\n",
       "      <td>26267</td>\n",
       "      <td>policy 1</td>\n",
       "      <td>dikesnet</td>\n",
       "    </tr>\n",
       "    <tr>\n",
       "      <th>4</th>\n",
       "      <td>10</td>\n",
       "      <td>302.133282</td>\n",
       "      <td>1.0</td>\n",
       "      <td>0.202844</td>\n",
       "      <td>255.568891</td>\n",
       "      <td>10.0</td>\n",
       "      <td>0.264802</td>\n",
       "      <td>326.750685</td>\n",
       "      <td>10.0</td>\n",
       "      <td>0.798309</td>\n",
       "      <td>...</td>\n",
       "      <td>10.0</td>\n",
       "      <td>0.937984</td>\n",
       "      <td>200.450219</td>\n",
       "      <td>1.5</td>\n",
       "      <td>0.543679</td>\n",
       "      <td>1.5</td>\n",
       "      <td>2.5</td>\n",
       "      <td>26268</td>\n",
       "      <td>policy 1</td>\n",
       "      <td>dikesnet</td>\n",
       "    </tr>\n",
       "  </tbody>\n",
       "</table>\n",
       "<p>5 rows × 21 columns</p>\n",
       "</div>"
      ],
      "text/plain": [
       "   A.0_ID flood wave shape    A.1_Bmax A.1_Brate  A.1_pfail    A.2_Bmax  \\\n",
       "0                       15  104.951766       1.5   0.866037   72.423761   \n",
       "1                       27  268.758784       1.0   0.439213  179.347355   \n",
       "2                      120  274.597925      10.0   0.752513  174.253795   \n",
       "3                       51  229.349571      10.0   0.308457   76.893599   \n",
       "4                       10  302.133282       1.0   0.202844  255.568891   \n",
       "\n",
       "  A.2_Brate  A.2_pfail    A.3_Bmax A.3_Brate  A.3_pfail  ...  A.4_Brate  \\\n",
       "0       1.5   0.784919  260.727340       1.0   0.427487  ...       10.0   \n",
       "1      10.0   0.250512   98.160975       1.0   0.125769  ...        1.5   \n",
       "2       1.5   0.358975  219.550772      10.0   0.254221  ...        1.0   \n",
       "3      10.0   0.470869  223.435463      10.0   0.801025  ...       10.0   \n",
       "4      10.0   0.264802  326.750685      10.0   0.798309  ...       10.0   \n",
       "\n",
       "  A.4_pfail    A.5_Bmax  A.5_Brate A.5_pfail  discount rate 0 discount rate 1  \\\n",
       "0  0.746491  329.289172        1.0  0.326723              4.5             1.5   \n",
       "1  0.920575  224.384026       10.0  0.931482              4.5             1.5   \n",
       "2  0.564166   66.633747       10.0  0.731416              3.5             4.5   \n",
       "3  0.340353  177.164724       10.0  0.544277              2.5             4.5   \n",
       "4  0.937984  200.450219        1.5  0.543679              1.5             2.5   \n",
       "\n",
       "  scenario    policy     model  \n",
       "0    26264  policy 1  dikesnet  \n",
       "1    26265  policy 1  dikesnet  \n",
       "2    26266  policy 1  dikesnet  \n",
       "3    26267  policy 1  dikesnet  \n",
       "4    26268  policy 1  dikesnet  \n",
       "\n",
       "[5 rows x 21 columns]"
      ]
     },
     "execution_count": 26,
     "metadata": {},
     "output_type": "execute_result"
    }
   ],
   "source": [
    "experiments.head()"
   ]
  },
  {
   "cell_type": "code",
   "execution_count": null,
   "id": "9a635827",
   "metadata": {},
   "outputs": [
    {
     "data": {
      "image/png": "[encoded data removed]",
      "text/plain": [
       "<Figure size 640x480 with 2 Axes>"
      ]
     },
     "metadata": {},
     "output_type": "display_data"
    }
   ],
   "source": [
    "import matplotlib.pyplot as plt\n",
    "\n",
    "scores = feature_scoring.get_feature_scores_all(experiments, outcomes, mode=RuleInductionType.REGRESSION)\n",
    "ax = sns.heatmap(scores, annot=False, cmap = \"Blues\", fmt=\".2f\")"
   ]
  },
  {
   "cell_type": "markdown",
   "id": "4f83a1be",
   "metadata": {},
   "source": [
    "### 3.2 Feature Scoring of Policy Space"
   ]
  },
  {
   "cell_type": "code",
   "execution_count": null,
   "id": "03423057",
   "metadata": {},
   "outputs": [
    {
     "name": "stderr",
     "output_type": "stream",
     "text": [
      "[MainProcess/INFO] results loaded successfully from d:\\GitHub\\epa141a-flood-policy-optimization-overijssel\\final assignment\\results\\data\\GSA_PF6_S1_P256_.tar.gz\n"
     ]
    }
   ],
   "source": [
    "######## Problem Formulation\n",
    "pf, n_scenario, n_policy = 6, 1, 256\n",
    "\n",
    "model, steps = get_model_for_problem_formulation(pf)\n",
    "uncertainties = model.uncertainties\n",
    "levers = model.levers\n",
    "\n",
    "######## Load results\n",
    "results = load_results('results/data/GSA_PF{}_S{}_P{}_.tar.gz'.format(pf, n_scenario, n_policy))\n",
    "experiments, outcomes = results\n",
    "\n",
    "######## drop uncertainties\n",
    "experiments.drop(columns=list(model.uncertainties.keys())+['policy'], inplace=True)"
   ]
  },
  {
   "cell_type": "code",
   "execution_count": null,
   "id": "ca19fa95",
   "metadata": {},
   "outputs": [
    {
     "data": {
      "text/html": [
       "<div>\n",
       "<style scoped>\n",
       "    .dataframe tbody tr th:only-of-type {\n",
       "        vertical-align: middle;\n",
       "    }\n",
       "\n",
       "    .dataframe tbody tr th {\n",
       "        vertical-align: top;\n",
       "    }\n",
       "\n",
       "    .dataframe thead th {\n",
       "        text-align: right;\n",
       "    }\n",
       "</style>\n",
       "<table border=\"1\" class=\"dataframe\">\n",
       "  <thead>\n",
       "    <tr style=\"text-align: right;\">\n",
       "      <th></th>\n",
       "      <th>0_RfR 0</th>\n",
       "      <th>0_RfR 1</th>\n",
       "      <th>1_RfR 0</th>\n",
       "      <th>1_RfR 1</th>\n",
       "      <th>2_RfR 0</th>\n",
       "      <th>2_RfR 1</th>\n",
       "      <th>3_RfR 0</th>\n",
       "      <th>3_RfR 1</th>\n",
       "      <th>4_RfR 0</th>\n",
       "      <th>4_RfR 1</th>\n",
       "      <th>...</th>\n",
       "      <th>A.2_DikeIncrease 1</th>\n",
       "      <th>A.3_DikeIncrease 0</th>\n",
       "      <th>A.3_DikeIncrease 1</th>\n",
       "      <th>A.4_DikeIncrease 0</th>\n",
       "      <th>A.4_DikeIncrease 1</th>\n",
       "      <th>A.5_DikeIncrease 0</th>\n",
       "      <th>A.5_DikeIncrease 1</th>\n",
       "      <th>EWS_DaysToThreat</th>\n",
       "      <th>scenario</th>\n",
       "      <th>model</th>\n",
       "    </tr>\n",
       "  </thead>\n",
       "  <tbody>\n",
       "    <tr>\n",
       "      <th>0</th>\n",
       "      <td>0</td>\n",
       "      <td>0</td>\n",
       "      <td>1</td>\n",
       "      <td>1</td>\n",
       "      <td>0</td>\n",
       "      <td>1</td>\n",
       "      <td>1</td>\n",
       "      <td>0</td>\n",
       "      <td>0</td>\n",
       "      <td>1</td>\n",
       "      <td>...</td>\n",
       "      <td>2</td>\n",
       "      <td>7</td>\n",
       "      <td>2</td>\n",
       "      <td>2</td>\n",
       "      <td>8</td>\n",
       "      <td>1</td>\n",
       "      <td>7</td>\n",
       "      <td>3</td>\n",
       "      <td>reference</td>\n",
       "      <td>dikesnet</td>\n",
       "    </tr>\n",
       "    <tr>\n",
       "      <th>1</th>\n",
       "      <td>1</td>\n",
       "      <td>0</td>\n",
       "      <td>1</td>\n",
       "      <td>1</td>\n",
       "      <td>0</td>\n",
       "      <td>1</td>\n",
       "      <td>1</td>\n",
       "      <td>0</td>\n",
       "      <td>0</td>\n",
       "      <td>1</td>\n",
       "      <td>...</td>\n",
       "      <td>2</td>\n",
       "      <td>7</td>\n",
       "      <td>2</td>\n",
       "      <td>2</td>\n",
       "      <td>8</td>\n",
       "      <td>1</td>\n",
       "      <td>7</td>\n",
       "      <td>3</td>\n",
       "      <td>reference</td>\n",
       "      <td>dikesnet</td>\n",
       "    </tr>\n",
       "    <tr>\n",
       "      <th>2</th>\n",
       "      <td>0</td>\n",
       "      <td>0</td>\n",
       "      <td>1</td>\n",
       "      <td>1</td>\n",
       "      <td>0</td>\n",
       "      <td>1</td>\n",
       "      <td>1</td>\n",
       "      <td>0</td>\n",
       "      <td>0</td>\n",
       "      <td>1</td>\n",
       "      <td>...</td>\n",
       "      <td>2</td>\n",
       "      <td>7</td>\n",
       "      <td>2</td>\n",
       "      <td>2</td>\n",
       "      <td>8</td>\n",
       "      <td>1</td>\n",
       "      <td>7</td>\n",
       "      <td>3</td>\n",
       "      <td>reference</td>\n",
       "      <td>dikesnet</td>\n",
       "    </tr>\n",
       "    <tr>\n",
       "      <th>3</th>\n",
       "      <td>0</td>\n",
       "      <td>0</td>\n",
       "      <td>0</td>\n",
       "      <td>1</td>\n",
       "      <td>0</td>\n",
       "      <td>1</td>\n",
       "      <td>1</td>\n",
       "      <td>0</td>\n",
       "      <td>0</td>\n",
       "      <td>1</td>\n",
       "      <td>...</td>\n",
       "      <td>2</td>\n",
       "      <td>7</td>\n",
       "      <td>2</td>\n",
       "      <td>2</td>\n",
       "      <td>8</td>\n",
       "      <td>1</td>\n",
       "      <td>7</td>\n",
       "      <td>3</td>\n",
       "      <td>reference</td>\n",
       "      <td>dikesnet</td>\n",
       "    </tr>\n",
       "    <tr>\n",
       "      <th>4</th>\n",
       "      <td>0</td>\n",
       "      <td>0</td>\n",
       "      <td>1</td>\n",
       "      <td>0</td>\n",
       "      <td>0</td>\n",
       "      <td>1</td>\n",
       "      <td>1</td>\n",
       "      <td>0</td>\n",
       "      <td>0</td>\n",
       "      <td>1</td>\n",
       "      <td>...</td>\n",
       "      <td>2</td>\n",
       "      <td>7</td>\n",
       "      <td>2</td>\n",
       "      <td>2</td>\n",
       "      <td>8</td>\n",
       "      <td>1</td>\n",
       "      <td>7</td>\n",
       "      <td>3</td>\n",
       "      <td>reference</td>\n",
       "      <td>dikesnet</td>\n",
       "    </tr>\n",
       "  </tbody>\n",
       "</table>\n",
       "<p>5 rows × 23 columns</p>\n",
       "</div>"
      ],
      "text/plain": [
       "   0_RfR 0  0_RfR 1  1_RfR 0  1_RfR 1  2_RfR 0  2_RfR 1  3_RfR 0  3_RfR 1  \\\n",
       "0        0        0        1        1        0        1        1        0   \n",
       "1        1        0        1        1        0        1        1        0   \n",
       "2        0        0        1        1        0        1        1        0   \n",
       "3        0        0        0        1        0        1        1        0   \n",
       "4        0        0        1        0        0        1        1        0   \n",
       "\n",
       "   4_RfR 0  4_RfR 1  ...  A.2_DikeIncrease 1  A.3_DikeIncrease 0  \\\n",
       "0        0        1  ...                   2                   7   \n",
       "1        0        1  ...                   2                   7   \n",
       "2        0        1  ...                   2                   7   \n",
       "3        0        1  ...                   2                   7   \n",
       "4        0        1  ...                   2                   7   \n",
       "\n",
       "   A.3_DikeIncrease 1  A.4_DikeIncrease 0  A.4_DikeIncrease 1  \\\n",
       "0                   2                   2                   8   \n",
       "1                   2                   2                   8   \n",
       "2                   2                   2                   8   \n",
       "3                   2                   2                   8   \n",
       "4                   2                   2                   8   \n",
       "\n",
       "   A.5_DikeIncrease 0  A.5_DikeIncrease 1  EWS_DaysToThreat   scenario  \\\n",
       "0                   1                   7                 3  reference   \n",
       "1                   1                   7                 3  reference   \n",
       "2                   1                   7                 3  reference   \n",
       "3                   1                   7                 3  reference   \n",
       "4                   1                   7                 3  reference   \n",
       "\n",
       "      model  \n",
       "0  dikesnet  \n",
       "1  dikesnet  \n",
       "2  dikesnet  \n",
       "3  dikesnet  \n",
       "4  dikesnet  \n",
       "\n",
       "[5 rows x 23 columns]"
      ]
     },
     "execution_count": 32,
     "metadata": {},
     "output_type": "execute_result"
    }
   ],
   "source": [
    "experiments.head()"
   ]
  },
  {
   "cell_type": "code",
   "execution_count": null,
   "id": "8b1682cc",
   "metadata": {},
   "outputs": [
    {
     "data": {
      "image/png": "[encoded data removed]",
      "text/plain": [
       "<Figure size 640x480 with 2 Axes>"
      ]
     },
     "metadata": {},
     "output_type": "display_data"
    }
   ],
   "source": [
    "import matplotlib.pyplot as plt\n",
    "\n",
    "scores = feature_scoring.get_feature_scores_all(experiments, outcomes, mode=RuleInductionType.REGRESSION)\n",
    "ax = sns.heatmap(scores, annot=False, cmap = \"Blues\", fmt=\".2f\")"
   ]
  },
  {
   "cell_type": "code",
   "execution_count": null,
   "id": "11f7f11f",
   "metadata": {},
   "outputs": [
    {
     "name": "stderr",
     "output_type": "stream",
     "text": [
      "c:\\Users\\Move\\anaconda3\\envs\\abm24\\Lib\\site-packages\\ema_workbench\\analysis\\parcoords.py:220: UserWarning: Tight layout not applied. tight_layout cannot make Axes width small enough to accommodate all Axes decorations\n",
      "  plt.tight_layout(h_pad=0, w_pad=0)\n"
     ]
    }
   ],
   "source": [
    "import seaborn as sns\n",
    "from ema_workbench.analysis import parcoords\n",
    "\n",
    "# Set color palette to account for policy number\n",
    "custom_palette = sns.color_palette(n_colors=n_scenario)\n",
    "\n",
    "# Select outcomes of interest\n",
    "to_display = list(outcomes.keys())\n",
    "# Create a DataFrame from outcomes, aligning with experiments' index\n",
    "data = pd.DataFrame(outcomes, index=experiments.index)\n",
    "\n",
    "# Set limits\n",
    "limits = parcoords.get_limits(data)\n",
    "limits.loc[0, to_display] = 0\n",
    "\n",
    "paraxes = parcoords.ParallelAxes(limits)\n",
    "# Plot all data in grey\n",
    "paraxes.plot(data, color='grey', alpha=0.05)\n",
    "\n",
    "# Plot each scenario with its own color\n",
    "for i, scenario in enumerate(experiments['scenario']):\n",
    "    color = custom_palette[i % len(custom_palette)]\n",
    "    paraxes.plot(data[experiments['scenario'] == scenario], color=color, label=f'Scenario {scenario}')\n",
    "\n",
    "paraxes.legend()\n",
    "plt.show()"
   ]
  },
  {
   "cell_type": "markdown",
   "id": "585e9629",
   "metadata": {},
   "source": [
    "## 4. Scenario Discovery"
   ]
  },
  {
   "cell_type": "code",
   "execution_count": null,
   "id": "a2bd6af2",
   "metadata": {},
   "outputs": [],
   "source": []
  },
  {
   "cell_type": "markdown",
   "id": "4ce0b611",
   "metadata": {},
   "source": [
    "#### TO IMPROVE THE OPEN EXPLORATION\n",
    "1. test policies with more reference scenarios"
   ]
  },
  {
   "cell_type": "markdown",
   "id": "543877a9",
   "metadata": {},
   "source": []
  }
 ],
 "metadata": {
  "kernelspec": {
   "display_name": "school",
   "language": "python",
   "name": "python3"
  },
  "language_info": {
   "codemirror_mode": {
    "name": "ipython",
    "version": 3
   },
   "file_extension": ".py",
   "mimetype": "text/x-python",
   "name": "python",
   "nbconvert_exporter": "python",
   "pygments_lexer": "ipython3",
   "version": "3.12.5"
  }
 },
 "nbformat": 4,
 "nbformat_minor": 5
}
