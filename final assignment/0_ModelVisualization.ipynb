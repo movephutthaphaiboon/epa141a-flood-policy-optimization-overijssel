{
 "cells": [
  {
   "cell_type": "markdown",
   "id": "65f6df8b",
   "metadata": {},
   "source": [
    "# Model Result Visualization"
   ]
  },
  {
   "cell_type": "code",
   "execution_count": 1,
   "id": "216d440f",
   "metadata": {},
   "outputs": [],
   "source": [
    "# Cell 1: Imports\n",
    "import numpy as np\n",
    "import pandas as pd\n",
    "import matplotlib.pyplot as plt\n",
    "import seaborn as sns\n",
    "from ema_workbench import Policy\n",
    "from problem_formulation import get_model_for_problem_formulation\n",
    "import ipywidgets as widgets\n",
    "from IPython.display import display, clear_output"
   ]
  },
  {
   "cell_type": "code",
   "execution_count": 2,
   "id": "db266f80",
   "metadata": {},
   "outputs": [],
   "source": [
    "# Cell 2: Load model for PF6\n",
    "pf = 6\n",
    "model, steps = get_model_for_problem_formulation(pf)\n",
    "uncertainties = model.uncertainties\n",
    "levers = model.levers"
   ]
  },
  {
   "cell_type": "code",
   "execution_count": 3,
   "id": "3a0ecaea",
   "metadata": {},
   "outputs": [],
   "source": [
    "# Cell 3: Create widgets for uncertainties and levers\n",
    "unc_widgets = {}\n",
    "for unc in uncertainties:\n",
    "    if hasattr(unc, 'categories'):\n",
    "        unc_widgets[unc.name] = widgets.Dropdown(\n",
    "            options=[cat.value for cat in unc.categories],\n",
    "            description=unc.name\n",
    "        )\n",
    "    elif unc.name.endswith(\"_pfail\"):\n",
    "        unc_widgets[unc.name] = widgets.FloatSlider(\n",
    "            min=unc.lower_bound, max=unc.upper_bound, step=(unc.upper_bound-unc.lower_bound)/100, description=unc.name\n",
    "        )\n",
    "    else:\n",
    "        unc_widgets[unc.name] = widgets.IntSlider(\n",
    "            min=unc.lower_bound, max=unc.upper_bound, step=(unc.upper_bound-unc.lower_bound)/100, description=unc.name\n",
    "        )\n",
    "\n",
    "lev_widgets = {}\n",
    "for lev in levers:\n",
    "    lev_widgets[lev.name] = widgets.IntSlider(\n",
    "        min=lev.lower_bound, max=lev.upper_bound, step=(lev.upper_bound-lev.lower_bound)/100, description=lev.name\n",
    "    )"
   ]
  },
  {
   "cell_type": "code",
   "execution_count": 4,
   "id": "d8fb97a4",
   "metadata": {},
   "outputs": [],
   "source": [
    "# Cell 4: Display widgets and run model\n",
    "from ema_workbench import perform_experiments, Scenario, MultiprocessingEvaluator\n",
    "from ema_workbench import ema_logging\n",
    "\n",
    "def run_and_plot(**kwargs):\n",
    "    #print(\"run_and_plot called\")\n",
    "    # Split kwargs into uncertainties and levers\n",
    "    unc_dict = {k: kwargs[k] for k in unc_widgets}\n",
    "    lev_dict = {k: kwargs[k] for k in lev_widgets}\n",
    "    policy = Policy('custom', **lev_dict)\n",
    "    scenario = Scenario('custom', **unc_dict)\n",
    "    print(\"Scenario and policy created, proceeding to run model...\")\n",
    "    # Run model for a single scenario using MultiprocessingEvaluator\n",
    "    ema_logging.log_to_stderr(ema_logging.INFO)\n",
    "    with MultiprocessingEvaluator(model) as evaluator:\n",
    "        experiments, outcomes = evaluator.perform_experiments(scenarios=[scenario], policies=[policy])\n",
    "    print(\"Model run completed\")\n",
    "\n",
    "    # Plot all disaggregated outcomes\n",
    "    fig, axes = plt.subplots(2, 2, figsize=(10, 10))\n",
    "    # Define the disaggregated outcome names\n",
    "    disaggregated_outcome_names = [\n",
    "        \"Expected Annual Damage\",\n",
    "        \"Expected Number of Deaths\",\n",
    "        \"Total Costs\",\n",
    "        \"Dike Investment Costs\"\n",
    "    ]\n",
    "    # For each outcome, plot all dikes (assume outcomes are named like \"Expected Annual Damage Dike 0\", ...)\n",
    "    for i, outcome_base in enumerate(disaggregated_outcome_names):\n",
    "        ax = axes.flatten()[i]\n",
    "        dike_outcomes = [name for name in outcomes if outcome_base in name]\n",
    "        values = [outcomes[name][0] for name in dike_outcomes]\n",
    "        labels = [name.split('_')[0] for name in dike_outcomes]\n",
    "        bars = ax.bar(range(len(dike_outcomes)), values, tick_label=labels)\n",
    "        ax.set_title(outcome_base)\n",
    "        ax.tick_params(axis='x', rotation=45)\n",
    "        # Show values above each bar\n",
    "        for bar, value in zip(bars, values):\n",
    "            ax.annotate(f'{value:.2f}', xy=(bar.get_x() + bar.get_width() / 2, value),\n",
    "                        xytext=(0, 3), textcoords=\"offset points\", ha='center', va='bottom', fontsize=8)\n",
    "    plt.tight_layout()\n",
    "    plt.show()"
   ]
  },
  {
   "cell_type": "code",
   "execution_count": null,
   "id": "2c2e025f",
   "metadata": {},
   "outputs": [
    {
     "data": {
      "application/vnd.jupyter.widget-view+json": {
       "model_id": "2531b28d30bc4187ae1fb1a62d695ad5",
       "version_major": 2,
       "version_minor": 0
      },
      "text/plain": [
       "Output()"
      ]
     },
     "metadata": {},
     "output_type": "display_data"
    },
    {
     "data": {
      "application/vnd.jupyter.widget-view+json": {
       "model_id": "c8cbdc1cf3f644098fa60113c6c7db17",
       "version_major": 2,
       "version_minor": 0
      },
      "text/plain": [
       "VBox(children=(HBox(children=(Button(button_style='success', description='Submit', style=ButtonStyle()), Butto…"
      ]
     },
     "metadata": {},
     "output_type": "display_data"
    }
   ],
   "source": [
    "# Cell 5: Interactive UI\n",
    "\n",
    "# Create submit and reset buttons\n",
    "submit_btn = widgets.Button(description=\"Submit\", button_style='success')\n",
    "reset_btn = widgets.Button(description=\"Reset\", button_style='warning')\n",
    "\n",
    "# Output widget for plot\n",
    "plot_out = widgets.Output()\n",
    "\n",
    "def on_submit_clicked(b):\n",
    "    with plot_out:\n",
    "        clear_output(wait=True)\n",
    "        # Gather current values from widgets\n",
    "        unc_values = {k: w.value for k, w in unc_widgets.items()}\n",
    "        lev_values = {k: w.value for k, w in lev_widgets.items()}\n",
    "        run_and_plot(**unc_values, **lev_values)\n",
    "\n",
    "def on_reset_clicked(b):\n",
    "    # Reset all widgets to their initial values\n",
    "    for k, w in unc_widgets.items():\n",
    "        if isinstance(w, widgets.IntSlider):\n",
    "            w.value = w.min if w.min is not None else 0\n",
    "        elif isinstance(w, widgets.Dropdown):\n",
    "            w.value = w.options[0]\n",
    "    for k, w in lev_widgets.items():\n",
    "        if isinstance(w, widgets.IntSlider):\n",
    "            w.value = w.min if w.min is not None else 0\n",
    "        elif isinstance(w, widgets.Dropdown):\n",
    "            w.value = w.options[0]\n",
    "\n",
    "submit_btn.on_click(on_submit_clicked)\n",
    "reset_btn.on_click(on_reset_clicked)\n",
    "\n",
    "# Set widget layout and style to show full parameter names\n",
    "style = {'description_width': '250px'}\n",
    "\n",
    "for w in unc_widgets.values():\n",
    "    w.layout = widgets.Layout(width='400px')\n",
    "    if hasattr(w, 'style'):\n",
    "        w.style = style\n",
    "\n",
    "for w in lev_widgets.values():\n",
    "    w.layout = widgets.Layout(width='400px')\n",
    "    if hasattr(w, 'style'):\n",
    "        w.style = style\n",
    "\n",
    "# Create VBox for uncertainties if not already defined\n",
    "unc_box = widgets.VBox(list(unc_widgets.values()))\n",
    "lev_box = widgets.VBox(list(lev_widgets.values()))\n",
    "\n",
    "# Layout: buttons above sliders\n",
    "button_box = widgets.HBox([submit_btn, reset_btn])\n",
    "ui = widgets.VBox([button_box, widgets.HBox([unc_box, lev_box])])\n",
    "\n",
    "display(plot_out, ui)\n"
   ]
  },
  {
   "cell_type": "code",
   "execution_count": null,
   "id": "3e0058ab",
   "metadata": {},
   "outputs": [],
   "source": []
  }
 ],
 "metadata": {
  "kernelspec": {
   "display_name": "abm24",
   "language": "python",
   "name": "python3"
  },
  "language_info": {
   "codemirror_mode": {
    "name": "ipython",
    "version": 3
   },
   "file_extension": ".py",
   "mimetype": "text/x-python",
   "name": "python",
   "nbconvert_exporter": "python",
   "pygments_lexer": "ipython3",
   "version": "3.12.4"
  }
 },
 "nbformat": 4,
 "nbformat_minor": 5
}
